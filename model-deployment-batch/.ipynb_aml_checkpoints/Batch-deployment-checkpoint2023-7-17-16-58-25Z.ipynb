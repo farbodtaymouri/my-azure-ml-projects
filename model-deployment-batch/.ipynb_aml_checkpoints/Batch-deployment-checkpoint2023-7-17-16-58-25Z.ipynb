{
  "cells": [
    {
      "cell_type": "code",
      "source": [
        "# checking Python SDKv2\n",
        "!pip show azure-ai-ml"
      ],
      "outputs": [
        {
          "output_type": "stream",
          "name": "stdout",
          "text": "\u001b[33mWARNING: Package(s) not found: azure-ai-ml\u001b[0m\r\n"
        }
      ],
      "execution_count": 4,
      "metadata": {
        "gather": {
          "logged": 1692291489243
        }
      }
    }
  ],
  "metadata": {
    "kernelspec": {
      "name": "python38-azureml",
      "language": "python",
      "display_name": "Python 3.8 - AzureML"
    },
    "language_info": {
      "name": "python",
      "version": "3.8.5",
      "mimetype": "text/x-python",
      "codemirror_mode": {
        "name": "ipython",
        "version": 3
      },
      "pygments_lexer": "ipython3",
      "nbconvert_exporter": "python",
      "file_extension": ".py"
    },
    "microsoft": {
      "ms_spell_check": {
        "ms_spell_check_language": "en"
      },
      "host": {
        "AzureML": {
          "notebookHasBeenCompleted": true
        }
      }
    },
    "kernel_info": {
      "name": "python38-azureml"
    },
    "nteract": {
      "version": "nteract-front-end@1.0.0"
    }
  },
  "nbformat": 4,
  "nbformat_minor": 2
}