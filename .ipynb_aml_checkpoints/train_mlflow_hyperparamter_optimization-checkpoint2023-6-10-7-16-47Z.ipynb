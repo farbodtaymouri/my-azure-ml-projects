{
  "cells": [
    {
      "cell_type": "code",
      "source": [
        "# Installing the the required library\r\n",
        "!pip install azure-ai-ml\r\n",
        "!pip show azure-ai-ml"
      ],
      "outputs": [],
      "execution_count": null,
      "metadata": {
        "gather": {
          "logged": 1688970400645
        }
      }
    },
    {
      "cell_type": "code",
      "source": [
        "# Connecting to the workspace\r\n",
        "from azure.identity import DefaultAzureCredential, InteractiveBrowserCredential\r\n",
        "from azure.ai.ml import MLClient\r\n",
        "\r\n",
        "try:\r\n",
        "    credential = DefaultAzureCredential()\r\n",
        "    # Check if given credential can get token successfully.\r\n",
        "    credential.get_token(\"https://management.azure.com/.default\")\r\n",
        "except Exception as ex:\r\n",
        "    # Fall back to InteractiveBrowserCredential in case DefaultAzureCredential not work\r\n",
        "    credential = InteractiveBrowserCredential()"
      ],
      "outputs": [],
      "execution_count": 3,
      "metadata": {
        "jupyter": {
          "source_hidden": false,
          "outputs_hidden": false
        },
        "nteract": {
          "transient": {
            "deleting": false
          }
        },
        "gather": {
          "logged": 1688970436625
        }
      }
    },
    {
      "cell_type": "code",
      "source": [
        "# Get a handle to azure services (worksopace)\r\n",
        "ml_client = MLClient.from_config(credential=credential)"
      ],
      "outputs": [
        {
          "output_type": "stream",
          "name": "stderr",
          "text": "Found the config file in: /config.json\n"
        }
      ],
      "execution_count": 4,
      "metadata": {
        "jupyter": {
          "source_hidden": false,
          "outputs_hidden": false
        },
        "nteract": {
          "transient": {
            "deleting": false
          }
        },
        "gather": {
          "logged": 1688970483778
        }
      }
    },
    {
      "cell_type": "code",
      "source": [
        "# Create a source directory\r\n",
        "import os\r\n",
        "\r\n",
        "# create a folder for the script files\r\n",
        "script_folder = 'src'\r\n",
        "os.makedirs(script_folder, exist_ok=True)\r\n",
        "print(script_folder, 'folder created')"
      ],
      "outputs": [
        {
          "output_type": "stream",
          "name": "stdout",
          "text": "src folder created\n"
        }
      ],
      "execution_count": 1,
      "metadata": {
        "jupyter": {
          "source_hidden": false,
          "outputs_hidden": false
        },
        "nteract": {
          "transient": {
            "deleting": false
          }
        },
        "gather": {
          "logged": 1688972797025
        }
      }
    },
    {
      "cell_type": "code",
      "source": [
        "%%writefile $script_folder/train-model-mlflow.py\r\n",
        "# import libraries\r\n",
        "import mlflow\r\n",
        "import argparse\r\n",
        "import pandas as pd\r\n",
        "import numpy as np\r\n",
        "from sklearn.model_selection import train_test_split\r\n",
        "from sklearn.linear_model import LogisticRegression\r\n",
        "from sklearn.ensemble import RandomForestClassifier\r\n",
        "from sklearn.metrics import roc_auc_score\r\n",
        "from sklearn.metrics import roc_curve\r\n",
        "import matplotlib.pyplot as plt\r\n",
        "from mlflow.models import infer_signature\r\n",
        "\r\n",
        "\r\n",
        "\r\n",
        "from mlflow.pyfunc import PythonModel, PythonModelContext\r\n",
        "# https://learn.microsoft.com/en-us/azure/machine-learning/how-to-log-mlflow-models?view=azureml-api-2&tabs=wrapper#logging-custom-models\r\n",
        "class ModelWrapper(PythonModel):\r\n",
        "    def __init__(self, model):\r\n",
        "        self._model = model\r\n",
        "\r\n",
        "    def predict(self, context: PythonModelContext, data):\r\n",
        "        # You don't have to keep the semantic meaning of `predict`. You can use here model.recommend(), model.forecast(), etc\r\n",
        "        return self._model.predict_proba(data)\r\n",
        "\r\n",
        "    # You can even add extra functions if you need to. Since the model is serialized,\r\n",
        "    # all of them will be available when you load your model back.\r\n",
        "    def predict_batch(self, data):\r\n",
        "        pass\r\n",
        "\r\n",
        "\r\n",
        "\r\n",
        "\r\n",
        "\r\n",
        "def main(args):\r\n",
        "    # read data\r\n",
        "    df = get_data(args.training_data)\r\n",
        "\r\n",
        "    # split data\r\n",
        "    X_train, X_test, y_train, y_test = split_data(df)\r\n",
        "\r\n",
        "    # train model\r\n",
        "    model = train_model(args.n_estimators, args.max_depth, X_train, X_test, y_train, y_test)\r\n",
        "\r\n",
        "    # evaluate model\r\n",
        "    eval_model(model, X_test, y_test)\r\n",
        "\r\n",
        "# function that reads the data\r\n",
        "def get_data(path):\r\n",
        "    print(\"Reading data...\")\r\n",
        "    df = pd.read_csv(path)\r\n",
        "    \r\n",
        "    return df\r\n",
        "\r\n",
        "# function that splits the data\r\n",
        "def split_data(df):\r\n",
        "    print(\"Splitting data...\")\r\n",
        "    X, y = df[['Pregnancies','PlasmaGlucose','DiastolicBloodPressure','TricepsThickness',\r\n",
        "    'SerumInsulin','BMI','DiabetesPedigree','Age']].values, df['Diabetic'].values\r\n",
        "\r\n",
        "    X_train, X_test, y_train, y_test = train_test_split(X, y, test_size=0.30, random_state=0)\r\n",
        "\r\n",
        "    return X_train, X_test, y_train, y_test\r\n",
        "\r\n",
        "# function that trains the model\r\n",
        "def train_model(n_estimators, max_depth, X_train, X_test, y_train, y_test):\r\n",
        "\r\n",
        "    mlflow.log_param(\"n_estimators\", n_estimators)\r\n",
        "    mlflow.log_param(\"max_depth\", max_depth)\r\n",
        "\r\n",
        "\r\n",
        "    clf = RandomForestClassifier(max_depth, n_estimators, random_state=0)\r\n",
        "    model = clf.fit(X_train, y_train)\r\n",
        "\r\n",
        "\r\n",
        "    # mlflow.log_param(\"Regularization rate\", reg_rate)\r\n",
        "    # print(\"Training model...\")\r\n",
        "    # model = LogisticRegression(C=1/reg_rate, solver=\"liblinear\").fit(X_train, y_train)\r\n",
        "\r\n",
        "    y_probs = model.predict_proba(X_test)\r\n",
        "\r\n",
        "    #Logging the model artifact\r\n",
        "    signature = infer_signature(X_test, y_probs)\r\n",
        "    mlflow.pyfunc.log_model(\"classifier\", \r\n",
        "                        python_model=ModelWrapper(model),\r\n",
        "                        signature=signature)\r\n",
        "    \r\n",
        "\r\n",
        "    return model\r\n",
        "\r\n",
        "# function that evaluates the model\r\n",
        "def eval_model(model, X_test, y_test):\r\n",
        "    # calculate accuracy\r\n",
        "    y_hat = model.predict(X_test)\r\n",
        "    acc = np.average(y_hat == y_test)\r\n",
        "    print('Accuracy:', acc)\r\n",
        "    mlflow.log_metric(\"Accuracy\", acc)\r\n",
        "\r\n",
        "    # calculate AUC\r\n",
        "    y_scores = model.predict_proba(X_test)\r\n",
        "    auc = roc_auc_score(y_test,y_scores[:,1])\r\n",
        "    print('AUC: ' + str(auc))\r\n",
        "    mlflow.log_metric(\"AUC\", auc)\r\n",
        "\r\n",
        "    # plot ROC curve\r\n",
        "    fpr, tpr, thresholds = roc_curve(y_test, y_scores[:,1])\r\n",
        "    fig = plt.figure(figsize=(6, 4))\r\n",
        "    # Plot the diagonal 50% line\r\n",
        "    plt.plot([0, 1], [0, 1], 'k--')\r\n",
        "    # Plot the FPR and TPR achieved by our model\r\n",
        "    plt.plot(fpr, tpr)\r\n",
        "    plt.xlabel('False Positive Rate')\r\n",
        "    plt.ylabel('True Positive Rate')\r\n",
        "    plt.title('ROC Curve')\r\n",
        "    plt.savefig(\"ROC-Curve.png\")\r\n",
        "    mlflow.log_artifact(\"ROC-Curve.png\")    \r\n",
        "\r\n",
        "def parse_args():\r\n",
        "    # setup arg parser\r\n",
        "    parser = argparse.ArgumentParser()\r\n",
        "\r\n",
        "    # add arguments\r\n",
        "    parser.add_argument(\"--training_data\", dest='training_data',\r\n",
        "                        type=str)\r\n",
        "    parser.add_argument(\"--reg_rate\", dest='reg_rate',\r\n",
        "                        type=float, default=0.01)\r\n",
        "\r\n",
        "    # parse args\r\n",
        "    args = parser.parse_args()\r\n",
        "\r\n",
        "    # return args\r\n",
        "    return args\r\n",
        "\r\n",
        "# run script\r\n",
        "if __name__ == \"__main__\":\r\n",
        "    # add space in logs\r\n",
        "    print(\"\\n\\n\")\r\n",
        "    print(\"*\" * 60)\r\n",
        "\r\n",
        "    # parse args\r\n",
        "    args = parse_args()\r\n",
        "\r\n",
        "    # run main function\r\n",
        "    main(args)\r\n",
        "\r\n",
        "    # add space in logs\r\n",
        "    print(\"*\" * 60)\r\n",
        "    print(\"\\n\\n\")\r\n"
      ],
      "outputs": [],
      "execution_count": null,
      "metadata": {
        "jupyter": {
          "source_hidden": false,
          "outputs_hidden": false
        },
        "nteract": {
          "transient": {
            "deleting": false
          }
        }
      }
    }
  ],
  "metadata": {
    "kernelspec": {
      "name": "python310-sdkv2",
      "language": "python",
      "display_name": "Python 3.10 - SDK v2"
    },
    "language_info": {
      "name": "python",
      "version": "3.10.10",
      "mimetype": "text/x-python",
      "codemirror_mode": {
        "name": "ipython",
        "version": 3
      },
      "pygments_lexer": "ipython3",
      "nbconvert_exporter": "python",
      "file_extension": ".py"
    },
    "microsoft": {
      "ms_spell_check": {
        "ms_spell_check_language": "en"
      },
      "host": {
        "AzureML": {
          "notebookHasBeenCompleted": true
        }
      }
    },
    "kernel_info": {
      "name": "python310-sdkv2"
    },
    "nteract": {
      "version": "nteract-front-end@1.0.0"
    }
  },
  "nbformat": 4,
  "nbformat_minor": 2
}