{
  "cells": [
    {
      "cell_type": "code",
      "source": [
        "pip show azure-ai-ml"
      ],
      "outputs": [
        {
          "output_type": "stream",
          "name": "stdout",
          "text": "Name: azure-ai-ml\r\nVersion: 1.8.0\r\nSummary: Microsoft Azure Machine Learning Client Library for Python\r\nHome-page: https://github.com/Azure/azure-sdk-for-python\r\nAuthor: Microsoft Corporation\r\nAuthor-email: azuresdkengsysadmins@microsoft.com\r\nLicense: MIT License\r\nLocation: /anaconda/envs/azureml_py310_sdkv2/lib/python3.10/site-packages\r\nRequires: azure-common, azure-core, azure-mgmt-core, azure-storage-blob, azure-storage-file-datalake, azure-storage-file-share, colorama, isodate, jsonschema, marshmallow, msrest, opencensus-ext-azure, pydash, pyjwt, pyyaml, strictyaml, tqdm, typing-extensions\r\nRequired-by: \r\nNote: you may need to restart the kernel to use updated packages.\n"
        }
      ],
      "execution_count": 1,
      "metadata": {
        "gather": {
          "logged": 1690387477218
        }
      }
    },
    {
      "cell_type": "markdown",
      "source": [
        "# Connect to your workspace"
      ],
      "metadata": {
        "nteract": {
          "transient": {
            "deleting": false
          }
        }
      }
    },
    {
      "cell_type": "code",
      "source": [
        "from azure.identity import DefaultAzureCredential, InteractiveBrowserCredential\n",
        "from azure.ai.ml import MLClient\n",
        "\n",
        "try:\n",
        "    credential = DefaultAzureCredential()\n",
        "    # Check if given credential can get token successfully.\n",
        "    credential.get_token(\"https://management.azure.com/.default\")\n",
        "except Exception as ex:\n",
        "    # Fall back to InteractiveBrowserCredential in case DefaultAzureCredential not work\n",
        "    credential = InteractiveBrowserCredential()"
      ],
      "outputs": [],
      "execution_count": 11,
      "metadata": {
        "gather": {
          "logged": 1691695197839
        },
        "jupyter": {
          "outputs_hidden": false,
          "source_hidden": false
        },
        "nteract": {
          "transient": {
            "deleting": false
          }
        }
      }
    },
    {
      "cell_type": "code",
      "source": [
        "# Get a handle to workspace\n",
        "ml_client = MLClient.from_config(credential=credential)"
      ],
      "outputs": [
        {
          "output_type": "stream",
          "name": "stderr",
          "text": "Found the config file in: /config.json\n"
        }
      ],
      "execution_count": 12,
      "metadata": {
        "gather": {
          "logged": 1691695200432
        },
        "jupyter": {
          "outputs_hidden": false,
          "source_hidden": false
        },
        "nteract": {
          "transient": {
            "deleting": false
          }
        }
      }
    },
    {
      "cell_type": "markdown",
      "source": [
        "# Train a model and dump it for scoring later\n",
        "The following part trains a simple model and dump it in a directory as a pickle file. "
      ],
      "metadata": {
        "nteract": {
          "transient": {
            "deleting": false
          }
        }
      }
    },
    {
      "cell_type": "code",
      "source": [
        "# Open terminal and move to the src folder and run to save the model\n",
        "!python train-model-parameters.py --training_data diabetes.csv"
      ],
      "outputs": [],
      "execution_count": null,
      "metadata": {
        "jupyter": {
          "outputs_hidden": false,
          "source_hidden": false
        },
        "nteract": {
          "transient": {
            "deleting": false
          }
        }
      }
    },
    {
      "cell_type": "markdown",
      "source": [
        "# Create and Define Endpoint"
      ],
      "metadata": {
        "nteract": {
          "transient": {
            "deleting": false
          }
        }
      }
    },
    {
      "cell_type": "code",
      "source": [
        "from azure.ai.ml.entities import ManagedOnlineEndpoint\n",
        "import datetime\n",
        "\n",
        "online_endpoint_name = \"endpoint-\" + datetime.datetime.now().strftime(\"%m%d%H%M%f\")\n",
        "\n",
        "# create an online endpoint\n",
        "endpoint = ManagedOnlineEndpoint(\n",
        "    name=online_endpoint_name,\n",
        "    description=\"Online endpoint for diabetes model\",\n",
        "    auth_mode=\"key\",\n",
        ")"
      ],
      "outputs": [],
      "execution_count": 13,
      "metadata": {
        "gather": {
          "logged": 1691695203527
        },
        "jupyter": {
          "outputs_hidden": false,
          "source_hidden": false
        },
        "nteract": {
          "transient": {
            "deleting": false
          }
        }
      }
    },
    {
      "cell_type": "code",
      "source": [
        "online_endpoint_name\n",
        "endpoint"
      ],
      "outputs": [
        {
          "output_type": "execute_result",
          "execution_count": 14,
          "data": {
            "text/plain": "ManagedOnlineEndpoint({'public_network_access': None, 'provisioning_state': None, 'scoring_uri': None, 'openapi_uri': None, 'name': 'endpoint-08101919339814', 'description': 'Online endpoint for diabetes model', 'tags': {}, 'properties': {}, 'print_as_yaml': True, 'id': None, 'Resource__source_path': None, 'base_path': '/mnt/batch/tasks/shared/LS_root/mounts/clusters/farbodtaymouri2/code/my-azure-ml-projects/model-deployment', 'creation_context': None, 'serialize': <msrest.serialization.Serializer object at 0x7fe8fb939ba0>, 'auth_mode': 'key', 'location': None, 'identity': None, 'traffic': {}, 'mirror_traffic': {}, 'kind': None})"
          },
          "metadata": {}
        }
      ],
      "execution_count": 14,
      "metadata": {
        "gather": {
          "logged": 1691695205921
        },
        "jupyter": {
          "outputs_hidden": false,
          "source_hidden": false
        },
        "nteract": {
          "transient": {
            "deleting": false
          }
        }
      }
    },
    {
      "cell_type": "markdown",
      "source": [
        "### It is good to deploy locally\n",
        "https://learn.microsoft.com/en-us/azure/machine-learning/how-to-deploy-online-endpoints?view=azureml-api-2&tabs=python#deploy-the-model-locally"
      ],
      "metadata": {
        "nteract": {
          "transient": {
            "deleting": false
          }
        }
      }
    },
    {
      "cell_type": "code",
      "source": [
        "# ml_client.begin_create_or_update(endpoint).result()\n",
        "ml_client.online_endpoints.begin_create_or_update(endpoint, local=False)"
      ],
      "outputs": [
        {
          "output_type": "execute_result",
          "execution_count": 15,
          "data": {
            "text/plain": "<azure.core.polling._poller.LROPoller at 0x7fe8fb965570>"
          },
          "metadata": {}
        }
      ],
      "execution_count": 15,
      "metadata": {
        "gather": {
          "logged": 1691695226770
        },
        "jupyter": {
          "outputs_hidden": false,
          "source_hidden": false
        },
        "nteract": {
          "transient": {
            "deleting": false
          }
        }
      }
    },
    {
      "cell_type": "code",
      "source": [
        "# Printing the list of online endpoints\n",
        "eps_online = ml_client.online_endpoints.list()\n",
        "for ep in eps_online:\n",
        "    print(ep.name)"
      ],
      "outputs": [
        {
          "output_type": "stream",
          "name": "stdout",
          "text": "endpoint-08101919339814\n"
        }
      ],
      "execution_count": 16,
      "metadata": {
        "gather": {
          "logged": 1691695244053
        },
        "jupyter": {
          "outputs_hidden": false,
          "source_hidden": false
        },
        "nteract": {
          "transient": {
            "deleting": false
          }
        }
      }
    },
    {
      "cell_type": "markdown",
      "source": [
        "# Configure deployment\n",
        "## Creating scoring file"
      ],
      "metadata": {
        "nteract": {
          "transient": {
            "deleting": false
          }
        }
      }
    },
    {
      "cell_type": "code",
      "source": [
        "#https://learn.microsoft.com/en-us/training/modules/deploy-model-managed-online-endpoint/4-eploy-custom-model-managed-online-endpoint\n",
        "\n",
        "# See the /src/score.py in the folder"
      ],
      "outputs": [],
      "execution_count": null,
      "metadata": {
        "jupyter": {
          "outputs_hidden": false,
          "source_hidden": false
        },
        "nteract": {
          "transient": {
            "deleting": false
          }
        }
      }
    },
    {
      "cell_type": "markdown",
      "source": [
        "## How to test the scoring script for deployment locally from terminal\n",
        "https://learn.microsoft.com/en-us/azure/machine-learning/how-to-inference-server-http?view=azureml-api-2"
      ],
      "metadata": {}
    },
    {
      "cell_type": "code",
      "source": [
        "# Run the followings from terminal\n",
        "\n",
        "# Install the following package (you can create a new virtual env):\n",
        "    # python -m pip install azureml-inference-server-http\n",
        "\n",
        "# Open the terminal and run the following code which indicates the score.py and the directory of the model \n",
        "# see the score.py to understand the location of the model\n",
        "    # azmlinfsrv --entry_script ./src/model/score.py --model_dir ./src/\n",
        "\n",
        "# Open another terminal and run the following\n",
        "    # curl --request POST \"127.0.0.1:5001/score\" --header 'Content-Type:application/json' --data @sample-data.json\n"
      ],
      "outputs": [],
      "execution_count": null,
      "metadata": {
        "jupyter": {
          "source_hidden": false,
          "outputs_hidden": false
        },
        "nteract": {
          "transient": {
            "deleting": false
          }
        }
      }
    },
    {
      "cell_type": "markdown",
      "source": [
        "## Create an environment using a base Docker image, \n",
        "you can define the Conda dependencies in a conda.yml file"
      ],
      "metadata": {
        "nteract": {
          "transient": {
            "deleting": false
          }
        }
      }
    },
    {
      "cell_type": "code",
      "source": [
        "%%writefile 'src/model/conda.yml'\n",
        "\n",
        "name: basic-env-cpu\n",
        "channels:\n",
        "  - conda-forge\n",
        "dependencies:\n",
        "  - python=3.7\n",
        "  - scikit-learn\n",
        "  - pandas\n",
        "  - numpy\n",
        "  - matplotlib"
      ],
      "outputs": [
        {
          "output_type": "stream",
          "name": "stdout",
          "text": "Overwriting src/model/conda.yml\n"
        }
      ],
      "execution_count": 10,
      "metadata": {
        "jupyter": {
          "outputs_hidden": false,
          "source_hidden": false
        },
        "nteract": {
          "transient": {
            "deleting": false
          }
        }
      }
    },
    {
      "cell_type": "code",
      "source": [
        "# Creating an environment\n",
        "from azure.ai.ml.entities import Environment\n",
        "\n",
        "env = Environment(\n",
        "    image=\"mcr.microsoft.com/azureml/minimal-ubuntu18.04-py37-cpu-inference:latest\",   # Double check this as it might fail the creation of image!!!!!\n",
        "    conda_file=\"./src/model/conda.yml\",\n",
        "    name=\"farbod-deployment-environment\",\n",
        "    version= '9',\n",
        "    description=\"Environment created from a Docker image plus Conda environment.\",\n",
        ")\n",
        "ml_client.environments.create_or_update(env)"
      ],
      "outputs": [
        {
          "output_type": "execute_result",
          "execution_count": 7,
          "data": {
            "text/plain": "Environment({'intellectual_property': None, 'is_anonymous': False, 'auto_increment_version': False, 'auto_delete_setting': None, 'name': 'farbod-deployment-environment', 'description': 'Environment created from a Docker image plus Conda environment.', 'tags': {}, 'properties': {}, 'print_as_yaml': True, 'id': '/subscriptions/2a21ade8-9d70-4d5a-a619-083b264d1d56/resourceGroups/mlcertificate1/providers/Microsoft.MachineLearningServices/workspaces/ft_ml2/environments/farbod-deployment-environment/versions/9', 'Resource__source_path': None, 'base_path': '/mnt/batch/tasks/shared/LS_root/mounts/clusters/farbodtaymouri2/code/my-azure-ml-projects/model-deployment', 'creation_context': <azure.ai.ml.entities._system_data.SystemData object at 0x7fe9134932e0>, 'serialize': <msrest.serialization.Serializer object at 0x7fe913493be0>, 'version': '9', 'latest_version': None, 'conda_file': {'channels': ['conda-forge'], 'dependencies': ['python=3.7', 'scikit-learn', 'pandas', 'numpy', 'matplotlib', 'azureml-inference-server-http'], 'name': 'basic-env-cpu'}, 'image': 'mcr.microsoft.com/azureml/minimal-ubuntu18.04-py37-cpu-inference:latest', 'build': None, 'inference_config': None, 'os_type': 'Linux', 'arm_type': 'environment_version', 'conda_file_path': None, 'path': None, 'datastore': None, 'upload_hash': None, 'translated_conda_file': '{\\n  \"channels\": [\\n    \"conda-forge\"\\n  ],\\n  \"dependencies\": [\\n    \"python=3.7\",\\n    \"scikit-learn\",\\n    \"pandas\",\\n    \"numpy\",\\n    \"matplotlib\",\\n    \"azureml-inference-server-http\"\\n  ],\\n  \"name\": \"basic-env-cpu\"\\n}'})"
          },
          "metadata": {}
        }
      ],
      "execution_count": 7,
      "metadata": {
        "gather": {
          "logged": 1691690795997
        },
        "jupyter": {
          "outputs_hidden": false,
          "source_hidden": false
        },
        "nteract": {
          "transient": {
            "deleting": false
          }
        }
      }
    },
    {
      "cell_type": "code",
      "source": [
        "# See whether the enviornment is avaialble\n",
        "envs = ml_client.environments.list()\n",
        "for my_env in envs:\n",
        "    print(my_env.name)\n"
      ],
      "outputs": [
        {
          "output_type": "stream",
          "name": "stdout",
          "text": "farbod-deployment-environment\ndeployment-environment\nDefaultNcdEnv-mlflow-ubuntu20-04-py38-cpu-inference\nAzureML-ACPT-pytorch-1.13-py38-cuda11.7-gpu\nAzureML-ACPT-pytorch-1.12-py38-cuda11.6-gpu\nAzureML-ACPT-pytorch-1.12-py39-cuda11.6-gpu\nAzureML-ACPT-pytorch-1.11-py38-cuda11.5-gpu\nAzureML-ACPT-pytorch-1.11-py38-cuda11.3-gpu\nAzureML-responsibleai-0.21-ubuntu20.04-py38-cpu\nAzureML-responsibleai-0.20-ubuntu20.04-py38-cpu\nAzureML-tensorflow-2.5-ubuntu20.04-py38-cuda11-gpu\nAzureML-tensorflow-2.6-ubuntu20.04-py38-cuda11-gpu\nAzureML-tensorflow-2.7-ubuntu20.04-py38-cuda11-gpu\nAzureML-sklearn-1.0-ubuntu20.04-py38-cpu\nAzureML-pytorch-1.10-ubuntu18.04-py38-cuda11-gpu\nAzureML-pytorch-1.9-ubuntu18.04-py37-cuda11-gpu\nAzureML-pytorch-1.8-ubuntu18.04-py37-cuda11-gpu\nAzureML-sklearn-0.24-ubuntu18.04-py37-cpu\nAzureML-lightgbm-3.2-ubuntu18.04-py37-cpu\nAzureML-pytorch-1.7-ubuntu18.04-py37-cuda11-gpu\nAzureML-tensorflow-2.4-ubuntu18.04-py37-cuda11-gpu\nAzureML-Triton\nAzureML-Designer-Score\nAzureML-VowpalWabbit-8.8.0\nAzureML-PyTorch-1.3-CPU\n"
        }
      ],
      "execution_count": 54,
      "metadata": {
        "gather": {
          "logged": 1691603511448
        },
        "jupyter": {
          "outputs_hidden": false,
          "source_hidden": false
        },
        "nteract": {
          "transient": {
            "deleting": false
          }
        }
      }
    },
    {
      "cell_type": "markdown",
      "source": [
        "## "
      ],
      "metadata": {
        "nteract": {
          "transient": {
            "deleting": false
          }
        }
      }
    },
    {
      "cell_type": "markdown",
      "source": [
        "## Create the deployment"
      ],
      "metadata": {
        "nteract": {
          "transient": {
            "deleting": false
          }
        }
      }
    },
    {
      "cell_type": "code",
      "source": [
        "from azure.ai.ml.entities import Model, ManagedOnlineDeployment, CodeConfiguration\n",
        "from azure.ai.ml.constants import AssetTypes\n",
        "\n",
        "# Registering the model. Note that, during the deployment, the model will be accessed via  local path 'AZUREML_MODEL_DIR/model/model.pkl'\n",
        "model = Model(path=\"./src/model/\", description='my simple custom model')\n",
        "\n",
        "blue_deployment = ManagedOnlineDeployment(\n",
        "    name=\"blue\",\n",
        "    endpoint_name= online_endpoint_name,\n",
        "    model=model,\n",
        "    # environment= env,\n",
        "    # environment= \"farbod-deployment-environment@latest\",    # If you created your env already. see https://learn.microsoft.com/en-us/azure/machine-learning/how-to-manage-environments-v2?view=azureml-api-2&tabs=python\n",
        "    environment= 'AzureML-sklearn-1.0-ubuntu20.04-py38-cpu@latest',\n",
        "    code_configuration=CodeConfiguration(\n",
        "        code=\"./src/model\", scoring_script=\"score.py\"\n",
        "    ),\n",
        "    instance_type=\"STANDARD_E2S_V3\",    # VERY IMPORTANT Check the quota before running\n",
        "    instance_count=1,\n",
        ")\n",
        "\n",
        "\n"
      ],
      "outputs": [],
      "execution_count": 23,
      "metadata": {
        "gather": {
          "logged": 1691696162275
        },
        "jupyter": {
          "outputs_hidden": false,
          "source_hidden": false
        },
        "nteract": {
          "transient": {
            "deleting": false
          }
        }
      }
    },
    {
      "cell_type": "code",
      "source": [
        "# ml_client.online_deployments.begin_create_or_update(blue_deployment).result()\n",
        "ml_client.online_deployments.begin_create_or_update(\n",
        "    deployment=blue_deployment, local=False, vscode_debug= False\n",
        ")"
      ],
      "outputs": [
        {
          "output_type": "stream",
          "name": "stderr",
          "text": "Check: endpoint endpoint-08101919339814 exists\n\u001b[32mUploading model (0.0 MBs): 100%|██████████| 3871/3871 [00:00<00:00, 14404.54it/s]\n\u001b[39m\n\n\u001b[32mUploading model (0.0 MBs): 100%|██████████| 3871/3871 [00:00<00:00, 25873.02it/s]\n\u001b[39m\n\n"
        },
        {
          "output_type": "execute_result",
          "execution_count": 24,
          "data": {
            "text/plain": "<azure.core.polling._poller.LROPoller at 0x7fe8fb69ee90>"
          },
          "metadata": {}
        },
        {
          "output_type": "stream",
          "name": "stdout",
          "text": "......................................"
        }
      ],
      "execution_count": 24,
      "metadata": {
        "gather": {
          "logged": 1691696185920
        },
        "jupyter": {
          "outputs_hidden": false,
          "source_hidden": false
        },
        "nteract": {
          "transient": {
            "deleting": false
          }
        }
      }
    },
    {
      "cell_type": "code",
      "source": [
        "# verify (local) deployment\n",
        "ml_client.online_endpoints.get(name=online_endpoint_name, local=False)"
      ],
      "outputs": [
        {
          "output_type": "execute_result",
          "execution_count": 26,
          "data": {
            "text/plain": "ManagedOnlineEndpoint({'public_network_access': 'Enabled', 'provisioning_state': 'Succeeded', 'scoring_uri': 'https://endpoint-08101919339814.australiaeast.inference.ml.azure.com/score', 'openapi_uri': 'https://endpoint-08101919339814.australiaeast.inference.ml.azure.com/swagger.json', 'name': 'endpoint-08101919339814', 'description': 'Online endpoint for diabetes model', 'tags': {}, 'properties': {'azureml.onlineendpointid': '/subscriptions/2a21ade8-9d70-4d5a-a619-083b264d1d56/resourcegroups/mlcertificate1/providers/microsoft.machinelearningservices/workspaces/ft_ml2/onlineendpoints/endpoint-08101919339814', 'AzureAsyncOperationUri': 'https://management.azure.com/subscriptions/2a21ade8-9d70-4d5a-a619-083b264d1d56/providers/Microsoft.MachineLearningServices/locations/australiaeast/mfeOperationsStatus/oe:44ba2fae-86c8-4414-b8fd-2b7466f5958e:af50b626-79fe-4a1b-b8c1-4fe47efe45a9?api-version=2022-02-01-preview'}, 'print_as_yaml': True, 'id': '/subscriptions/2a21ade8-9d70-4d5a-a619-083b264d1d56/resourceGroups/mlcertificate1/providers/Microsoft.MachineLearningServices/workspaces/ft_ml2/onlineEndpoints/endpoint-08101919339814', 'Resource__source_path': None, 'base_path': '/mnt/batch/tasks/shared/LS_root/mounts/clusters/farbodtaymouri2/code/my-azure-ml-projects/model-deployment', 'creation_context': None, 'serialize': <msrest.serialization.Serializer object at 0x7fe8fb4519f0>, 'auth_mode': 'key', 'location': 'australiaeast', 'identity': <azure.ai.ml.entities._credentials.IdentityConfiguration object at 0x7fe8fb686f80>, 'traffic': {'blue': 100}, 'mirror_traffic': {}, 'kind': 'Managed'})"
          },
          "metadata": {}
        }
      ],
      "execution_count": 26,
      "metadata": {
        "gather": {
          "logged": 1691696495260
        },
        "jupyter": {
          "outputs_hidden": false,
          "source_hidden": false
        },
        "nteract": {
          "transient": {
            "deleting": false
          }
        }
      }
    },
    {
      "cell_type": "code",
      "source": [
        "# blue deployment takes 100 traffic\n",
        "endpoint.traffic = {\"blue\": 100}\n",
        "ml_client.begin_create_or_update(endpoint).result()\n"
      ],
      "outputs": [
        {
          "output_type": "execute_result",
          "execution_count": 25,
          "data": {
            "text/plain": "ManagedOnlineEndpoint({'public_network_access': 'Enabled', 'provisioning_state': 'Succeeded', 'scoring_uri': 'https://endpoint-08101919339814.australiaeast.inference.ml.azure.com/score', 'openapi_uri': 'https://endpoint-08101919339814.australiaeast.inference.ml.azure.com/swagger.json', 'name': 'endpoint-08101919339814', 'description': 'Online endpoint for diabetes model', 'tags': {}, 'properties': {'azureml.onlineendpointid': '/subscriptions/2a21ade8-9d70-4d5a-a619-083b264d1d56/resourcegroups/mlcertificate1/providers/microsoft.machinelearningservices/workspaces/ft_ml2/onlineendpoints/endpoint-08101919339814', 'AzureAsyncOperationUri': 'https://management.azure.com/subscriptions/2a21ade8-9d70-4d5a-a619-083b264d1d56/providers/Microsoft.MachineLearningServices/locations/australiaeast/mfeOperationsStatus/oe:44ba2fae-86c8-4414-b8fd-2b7466f5958e:af50b626-79fe-4a1b-b8c1-4fe47efe45a9?api-version=2022-02-01-preview'}, 'print_as_yaml': True, 'id': '/subscriptions/2a21ade8-9d70-4d5a-a619-083b264d1d56/resourceGroups/mlcertificate1/providers/Microsoft.MachineLearningServices/workspaces/ft_ml2/onlineEndpoints/endpoint-08101919339814', 'Resource__source_path': None, 'base_path': '/mnt/batch/tasks/shared/LS_root/mounts/clusters/farbodtaymouri2/code/my-azure-ml-projects/model-deployment', 'creation_context': None, 'serialize': <msrest.serialization.Serializer object at 0x7fe8f9b21d80>, 'auth_mode': 'key', 'location': 'australiaeast', 'identity': <azure.ai.ml.entities._credentials.IdentityConfiguration object at 0x7fe8f9b20c10>, 'traffic': {'blue': 100}, 'mirror_traffic': {}, 'kind': 'Managed'})"
          },
          "metadata": {}
        }
      ],
      "execution_count": 25,
      "metadata": {
        "gather": {
          "logged": 1691696477980
        },
        "jupyter": {
          "outputs_hidden": false,
          "source_hidden": false
        },
        "nteract": {
          "transient": {
            "deleting": false
          }
        }
      }
    },
    {
      "cell_type": "markdown",
      "source": [
        "## Test the deployment"
      ],
      "metadata": {
        "nteract": {
          "transient": {
            "deleting": false
          }
        }
      }
    },
    {
      "cell_type": "code",
      "source": [
        "# test the blue deployment with some sample data\n",
        "response = ml_client.online_endpoints.invoke(\n",
        "    endpoint_name=online_endpoint_name,\n",
        "    deployment_name=\"blue\",\n",
        "    request_file=\"sample-data.json\",\n",
        ")\n",
        "\n",
        "print('response:', response)\n",
        "if response[1]=='1':\n",
        "    print(\"Diabetic\")\n",
        "else:\n",
        "    print (\"Not diabetic\")"
      ],
      "outputs": [
        {
          "output_type": "stream",
          "name": "stdout",
          "text": "response: [0]\nNot diabetic\n"
        }
      ],
      "execution_count": 27,
      "metadata": {
        "gather": {
          "logged": 1691696502447
        },
        "jupyter": {
          "outputs_hidden": false,
          "source_hidden": false
        },
        "nteract": {
          "transient": {
            "deleting": false
          }
        }
      }
    }
  ],
  "metadata": {
    "kernel_info": {
      "name": "python310-sdkv2"
    },
    "kernelspec": {
      "display_name": "Python 3.10 - SDK v2",
      "language": "python",
      "name": "python310-sdkv2"
    },
    "language_info": {
      "codemirror_mode": {
        "name": "ipython",
        "version": 3
      },
      "file_extension": ".py",
      "mimetype": "text/x-python",
      "name": "python",
      "nbconvert_exporter": "python",
      "pygments_lexer": "ipython3",
      "version": "3.10.11"
    },
    "microsoft": {
      "host": {
        "AzureML": {
          "notebookHasBeenCompleted": true
        }
      },
      "ms_spell_check": {
        "ms_spell_check_language": "en"
      }
    },
    "nteract": {
      "version": "nteract-front-end@1.0.0"
    }
  },
  "nbformat": 4,
  "nbformat_minor": 2
}