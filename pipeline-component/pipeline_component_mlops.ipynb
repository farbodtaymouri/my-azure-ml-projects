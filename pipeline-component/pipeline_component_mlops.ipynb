{
 "cells": [
  {
   "cell_type": "code",
   "execution_count": 4,
   "metadata": {},
   "outputs": [
    {
     "name": "stdout",
     "output_type": "stream",
     "text": [
      "Name: azure-ai-ml\n",
      "Version: 1.5.0\n",
      "Summary: Microsoft Azure Machine Learning Client Library for Python\n",
      "Home-page: https://github.com/Azure/azure-sdk-for-python\n",
      "Author: Microsoft Corporation\n",
      "Author-email: azuresdkengsysadmins@microsoft.com\n",
      "License: MIT License\n",
      "Location: /anaconda/envs/azureml_py310_sdkv2/lib/python3.10/site-packages\n",
      "Requires: azure-common, azure-core, azure-mgmt-core, azure-storage-blob, azure-storage-file-datalake, azure-storage-file-share, colorama, isodate, jsonschema, marshmallow, msrest, opencensus-ext-azure, pydash, pyjwt, pyyaml, strictyaml, tqdm, typing-extensions\n",
      "Required-by: \n",
      "Note: you may need to restart the kernel to use updated packages.\n"
     ]
    }
   ],
   "source": [
    "pip show azure-ai-ml"
   ]
  },
  {
   "cell_type": "code",
   "execution_count": 1,
   "metadata": {},
   "outputs": [],
   "source": [
    "# Connecting to workspace\n",
    "from azure.identity import DefaultAzureCredential, InteractiveBrowserCredential\n",
    "from azure.ai.ml import MLClient\n",
    "\n",
    "try:\n",
    "    credential = DefaultAzureCredential()\n",
    "    # Check if given credential can get token successfully.\n",
    "    credential.get_token(\"https://management.azure.com/.default\")\n",
    "except Exception as ex:\n",
    "    # Fall back to InteractiveBrowserCredential in case DefaultAzureCredential not work\n",
    "    credential = InteractiveBrowserCredential()"
   ]
  },
  {
   "cell_type": "code",
   "execution_count": 3,
   "metadata": {},
   "outputs": [
    {
     "name": "stderr",
     "output_type": "stream",
     "text": [
      "Found the config file in: /config.json\n"
     ]
    }
   ],
   "source": [
    "# Get a handler to the workspace and Datastore\n",
    "ml_client = MLClient.from_config(credential=credential)"
   ]
  },
  {
   "cell_type": "code",
   "execution_count": 4,
   "metadata": {},
   "outputs": [
    {
     "name": "stdout",
     "output_type": "stream",
     "text": [
      "src folder created\n"
     ]
    }
   ],
   "source": [
    "import os\n",
    "\n",
    "# create a folder for the script files\n",
    "script_folder = 'src'\n",
    "os.makedirs(script_folder, exist_ok=True)\n",
    "print(script_folder, 'folder created')"
   ]
  },
  {
   "cell_type": "code",
   "execution_count": 149,
   "metadata": {},
   "outputs": [
    {
     "data": {
      "text/plain": [
       "'# import libraries\\nimport argparse\\nimport pandas as pd\\nimport numpy as np\\nfrom pathlib import Path\\nfrom sklearn.preprocessing import MinMaxScaler\\n\\ndef main(args):\\n    # read data\\n    df = get_data(args.input_data)\\n\\n    cleaned_data = clean_data(df)\\n\\n    normalized_data = normalize_data(cleaned_data)\\n\\n    # output_df = normalized_data.to_csv((Path(args.output_data) / \"diabetes.csv\"), index = False)\\n    output_df = normalized_data.to_csv(str(args.output_data) +\\'/\\'+ \"diabetes.csv\"), index = False)\\n\\n# function that reads the data\\ndef get_data(path):\\n    df = pd.read_csv(path)\\n\\n    # Count the rows and print the result\\n    row_count = (len(df))\\n    print(\\'Preparing {} rows of data\\'.format(row_count))\\n    \\n    return df\\n\\n# function that removes missing values\\ndef clean_data(df):\\n    df = df.dropna()\\n    \\n    return df\\n\\n# function that normalizes the data\\ndef normalize_data(df):\\n    scaler = MinMaxScaler()\\n    num_cols = [\\'Pregnancies\\',\\'PlasmaGlucose\\',\\'DiastolicBloodPressure\\',\\'TricepsThickness\\',\\'SerumInsulin\\',\\'BMI\\',\\'DiabetesPedigree\\']\\n    df[num_cols] = scaler.fit_transform(df[num_cols])\\n\\n    return df\\n\\ndef parse_args():\\n    # setup arg parser\\n    parser = argparse.ArgumentParser()\\n\\n    # add arguments\\n    parser.add_argument(\"--input_data\", dest=\\'input_data\\',\\n                        type=str)\\n    parser.add_argument(\"--output_data\", dest=\\'output_data\\',\\n                        type=str)\\n\\n    # parse args\\n    args = parser.parse_args()\\n\\n    # return args\\n    return args\\n\\n# run script\\nif __name__ == \"__main__\":\\n    # add space in logs\\n    print(\"\\\\n\\\\n\")\\n    print(\"*\" * 60)\\n\\n    # parse args\\n    args = parse_args()\\n\\n    # run main function\\n    main(args)\\n\\n    # add space in logs\\n    print(\"*\" * 60)\\n    print(\"\\\\n\\\\n\")\\n'"
      ]
     },
     "execution_count": 149,
     "metadata": {},
     "output_type": "execute_result"
    }
   ],
   "source": [
    "p  = Path('src/prep-data.py')\n",
    "f = open(p)\n",
    "f = f.read()\n",
    "f"
   ]
  },
  {
   "cell_type": "code",
   "execution_count": 193,
   "metadata": {},
   "outputs": [
    {
     "name": "stdout",
     "output_type": "stream",
     "text": [
      "Overwriting src/prep-data.py\n"
     ]
    }
   ],
   "source": [
    "%%writefile $script_folder/prep-data.py\n",
    "# import libraries\n",
    "import argparse\n",
    "import pandas as pd\n",
    "import numpy as np\n",
    "from pathlib import Path\n",
    "from sklearn.preprocessing import MinMaxScaler\n",
    "import mlflow\n",
    "\n",
    "def main(args):\n",
    "    # read data\n",
    "    df = get_data(args.input_data)\n",
    "\n",
    "    cleaned_data = clean_data(df)\n",
    "\n",
    "    normalized_data = normalize_data(cleaned_data)\n",
    "    print('args.output_data: ', args.output_data)\n",
    "\n",
    "    # See https://docs.python.org/3/library/pathlib.html#concrete-paths\n",
    "    output_df = normalized_data.to_csv((Path(args.output_data) / \"diabetes.csv\"), index = False)\n",
    "\n",
    "# function that reads the data\n",
    "def get_data(path):\n",
    "    df = pd.read_csv(path)\n",
    "\n",
    "    # Count the rows and print the result\n",
    "    row_count = (len(df))\n",
    "    print('Preparing {} rows of data'.format(row_count))\n",
    "    \n",
    "    return df\n",
    "\n",
    "# function that removes missing values\n",
    "def clean_data(df):\n",
    "    df = df.dropna()\n",
    "    \n",
    "    return df\n",
    "\n",
    "# function that normalizes the data\n",
    "def normalize_data(df):\n",
    "    scaler = MinMaxScaler()\n",
    "    num_cols = ['Pregnancies','PlasmaGlucose','DiastolicBloodPressure','TricepsThickness','SerumInsulin','BMI','DiabetesPedigree']\n",
    "    df[num_cols] = scaler.fit_transform(df[num_cols])\n",
    "\n",
    "    return df\n",
    "\n",
    "def parse_args():\n",
    "    # setup arg parser\n",
    "    parser = argparse.ArgumentParser()\n",
    "\n",
    "    # add arguments\n",
    "    parser.add_argument(\"--input_data\", dest='input_data',\n",
    "                        type=str)\n",
    "    parser.add_argument(\"--output_data\", dest='output_data',\n",
    "                        type=str)\n",
    "\n",
    "    # parse args\n",
    "    args = parser.parse_args()\n",
    "\n",
    "    # return args\n",
    "    return args\n",
    "\n",
    "# run script\n",
    "if __name__ == \"__main__\":\n",
    "    # add space in logs\n",
    "    print(\"\\n\\n\")\n",
    "    print(\"*\" * 60)\n",
    "\n",
    "    # parse args\n",
    "    args = parse_args()\n",
    "\n",
    "    # run main function\n",
    "    main(args)\n",
    "\n",
    "    # add space in logs\n",
    "    print(\"*\" * 60)\n",
    "    print(\"\\n\\n\")"
   ]
  },
  {
   "cell_type": "code",
   "execution_count": 15,
   "metadata": {},
   "outputs": [
    {
     "data": {
      "text/html": [
       "<div>\n",
       "<style scoped>\n",
       "    .dataframe tbody tr th:only-of-type {\n",
       "        vertical-align: middle;\n",
       "    }\n",
       "\n",
       "    .dataframe tbody tr th {\n",
       "        vertical-align: top;\n",
       "    }\n",
       "\n",
       "    .dataframe thead th {\n",
       "        text-align: right;\n",
       "    }\n",
       "</style>\n",
       "<table border=\"1\" class=\"dataframe\">\n",
       "  <thead>\n",
       "    <tr style=\"text-align: right;\">\n",
       "      <th></th>\n",
       "      <th>PatientID</th>\n",
       "      <th>Pregnancies</th>\n",
       "      <th>PlasmaGlucose</th>\n",
       "      <th>DiastolicBloodPressure</th>\n",
       "      <th>TricepsThickness</th>\n",
       "      <th>SerumInsulin</th>\n",
       "      <th>BMI</th>\n",
       "      <th>DiabetesPedigree</th>\n",
       "      <th>Age</th>\n",
       "      <th>Diabetic</th>\n",
       "    </tr>\n",
       "  </thead>\n",
       "  <tbody>\n",
       "    <tr>\n",
       "      <th>0</th>\n",
       "      <td>1354778</td>\n",
       "      <td>0</td>\n",
       "      <td>171</td>\n",
       "      <td>80</td>\n",
       "      <td>34</td>\n",
       "      <td>23</td>\n",
       "      <td>43.509726</td>\n",
       "      <td>1.213191</td>\n",
       "      <td>21</td>\n",
       "      <td>0</td>\n",
       "    </tr>\n",
       "    <tr>\n",
       "      <th>1</th>\n",
       "      <td>1147438</td>\n",
       "      <td>8</td>\n",
       "      <td>92</td>\n",
       "      <td>93</td>\n",
       "      <td>47</td>\n",
       "      <td>36</td>\n",
       "      <td>21.240576</td>\n",
       "      <td>0.158365</td>\n",
       "      <td>23</td>\n",
       "      <td>0</td>\n",
       "    </tr>\n",
       "    <tr>\n",
       "      <th>2</th>\n",
       "      <td>1640031</td>\n",
       "      <td>7</td>\n",
       "      <td>115</td>\n",
       "      <td>47</td>\n",
       "      <td>52</td>\n",
       "      <td>35</td>\n",
       "      <td>41.511523</td>\n",
       "      <td>0.079019</td>\n",
       "      <td>23</td>\n",
       "      <td>0</td>\n",
       "    </tr>\n",
       "    <tr>\n",
       "      <th>3</th>\n",
       "      <td>1883350</td>\n",
       "      <td>9</td>\n",
       "      <td>103</td>\n",
       "      <td>78</td>\n",
       "      <td>25</td>\n",
       "      <td>304</td>\n",
       "      <td>29.582192</td>\n",
       "      <td>1.282870</td>\n",
       "      <td>43</td>\n",
       "      <td>1</td>\n",
       "    </tr>\n",
       "    <tr>\n",
       "      <th>4</th>\n",
       "      <td>1424119</td>\n",
       "      <td>1</td>\n",
       "      <td>85</td>\n",
       "      <td>59</td>\n",
       "      <td>27</td>\n",
       "      <td>35</td>\n",
       "      <td>42.604536</td>\n",
       "      <td>0.549542</td>\n",
       "      <td>22</td>\n",
       "      <td>0</td>\n",
       "    </tr>\n",
       "    <tr>\n",
       "      <th>5</th>\n",
       "      <td>1619297</td>\n",
       "      <td>0</td>\n",
       "      <td>82</td>\n",
       "      <td>92</td>\n",
       "      <td>9</td>\n",
       "      <td>253</td>\n",
       "      <td>19.724160</td>\n",
       "      <td>0.103424</td>\n",
       "      <td>26</td>\n",
       "      <td>0</td>\n",
       "    </tr>\n",
       "    <tr>\n",
       "      <th>6</th>\n",
       "      <td>1660149</td>\n",
       "      <td>0</td>\n",
       "      <td>133</td>\n",
       "      <td>47</td>\n",
       "      <td>19</td>\n",
       "      <td>227</td>\n",
       "      <td>21.941357</td>\n",
       "      <td>0.174160</td>\n",
       "      <td>21</td>\n",
       "      <td>0</td>\n",
       "    </tr>\n",
       "    <tr>\n",
       "      <th>7</th>\n",
       "      <td>1458769</td>\n",
       "      <td>0</td>\n",
       "      <td>67</td>\n",
       "      <td>87</td>\n",
       "      <td>43</td>\n",
       "      <td>36</td>\n",
       "      <td>18.277723</td>\n",
       "      <td>0.236165</td>\n",
       "      <td>26</td>\n",
       "      <td>0</td>\n",
       "    </tr>\n",
       "    <tr>\n",
       "      <th>8</th>\n",
       "      <td>1201647</td>\n",
       "      <td>8</td>\n",
       "      <td>80</td>\n",
       "      <td>95</td>\n",
       "      <td>33</td>\n",
       "      <td>24</td>\n",
       "      <td>26.624929</td>\n",
       "      <td>0.443947</td>\n",
       "      <td>53</td>\n",
       "      <td>1</td>\n",
       "    </tr>\n",
       "    <tr>\n",
       "      <th>9</th>\n",
       "      <td>1403912</td>\n",
       "      <td>1</td>\n",
       "      <td>72</td>\n",
       "      <td>31</td>\n",
       "      <td>40</td>\n",
       "      <td>42</td>\n",
       "      <td>36.889576</td>\n",
       "      <td>0.103944</td>\n",
       "      <td>26</td>\n",
       "      <td>0</td>\n",
       "    </tr>\n",
       "  </tbody>\n",
       "</table>\n",
       "</div>"
      ],
      "text/plain": [
       "   PatientID  Pregnancies  PlasmaGlucose  DiastolicBloodPressure   \n",
       "0    1354778            0            171                      80  \\\n",
       "1    1147438            8             92                      93   \n",
       "2    1640031            7            115                      47   \n",
       "3    1883350            9            103                      78   \n",
       "4    1424119            1             85                      59   \n",
       "5    1619297            0             82                      92   \n",
       "6    1660149            0            133                      47   \n",
       "7    1458769            0             67                      87   \n",
       "8    1201647            8             80                      95   \n",
       "9    1403912            1             72                      31   \n",
       "\n",
       "   TricepsThickness  SerumInsulin        BMI  DiabetesPedigree  Age  Diabetic  \n",
       "0                34            23  43.509726          1.213191   21         0  \n",
       "1                47            36  21.240576          0.158365   23         0  \n",
       "2                52            35  41.511523          0.079019   23         0  \n",
       "3                25           304  29.582192          1.282870   43         1  \n",
       "4                27            35  42.604536          0.549542   22         0  \n",
       "5                 9           253  19.724160          0.103424   26         0  \n",
       "6                19           227  21.941357          0.174160   21         0  \n",
       "7                43            36  18.277723          0.236165   26         0  \n",
       "8                33            24  26.624929          0.443947   53         1  \n",
       "9                40            42  36.889576          0.103944   26         0  "
      ]
     },
     "execution_count": 15,
     "metadata": {},
     "output_type": "execute_result"
    }
   ],
   "source": [
    "# Reading the data asset\n",
    "registered_data_asset  = ml_client.data.get(name ='diabetes-local', version = 1)\n",
    "df = pd.read_csv(registered_data_asset.path)\n",
    "df.head(10)\n"
   ]
  },
  {
   "cell_type": "code",
   "execution_count": 186,
   "metadata": {},
   "outputs": [
    {
     "name": "stdout",
     "output_type": "stream",
     "text": [
      "Overwriting src/train-model.py\n"
     ]
    }
   ],
   "source": [
    "%%writefile $script_folder/train-model.py\n",
    "# import libraries\n",
    "import mlflow\n",
    "import argparse\n",
    "import glob\n",
    "import pandas as pd\n",
    "import numpy as np\n",
    "from sklearn.model_selection import train_test_split\n",
    "from sklearn.linear_model import LogisticRegression\n",
    "from sklearn.ensemble import RandomForestClassifier\n",
    "from sklearn.metrics import roc_auc_score\n",
    "from sklearn.metrics import roc_curve\n",
    "import matplotlib.pyplot as plt\n",
    "from mlflow.models import infer_signature\n",
    "\n",
    "\n",
    "\n",
    "from mlflow.pyfunc import PythonModel, PythonModelContext\n",
    "# https://learn.microsoft.com/en-us/azure/machine-learning/how-to-log-mlflow-models?view=azureml-api-2&tabs=wrapper#logging-custom-models\n",
    "class ModelWrapper(PythonModel):\n",
    "    def __init__(self, model):\n",
    "        self._model = model\n",
    "\n",
    "    def predict(self, context: PythonModelContext, data):\n",
    "        # You don't have to keep the semantic meaning of `predict`. You can use here model.recommend(), model.forecast(), etc\n",
    "        return self._model.predict_proba(data)\n",
    "\n",
    "    # You can even add extra functions if you need to. Since the model is serialized,\n",
    "    # all of them will be available when you load your model back.\n",
    "    def predict_batch(self, data):\n",
    "        pass\n",
    "\n",
    "\n",
    "\n",
    "\n",
    "\n",
    "def main(args):\n",
    "    # read data\n",
    "    df = get_data(args.training_data)\n",
    "\n",
    "    # split data\n",
    "    X_train, X_test, y_train, y_test = split_data(df)\n",
    "\n",
    "    # train model\n",
    "    model = train_model(args.n_estimators, args.max_depth, args.model_output, X_train, X_test, y_train, y_test)\n",
    "\n",
    "    # evaluate model\n",
    "    eval_model(model, X_test, y_test)\n",
    "\n",
    "# # function that reads the data\n",
    "# def get_data(path):\n",
    "#     print(\"Reading data...\")\n",
    "#     df = pd.read_csv(path)\n",
    "    \n",
    "#     return df\n",
    "\n",
    "# function that reads the data\n",
    "def get_data(data_path):\n",
    "\n",
    "    # Read all csv files in the data directory\n",
    "    all_files = glob.glob(data_path + \"/*.csv\")\n",
    "    print('all_files in get-data(): ', all_files)\n",
    "    df = pd.concat((pd.read_csv(f) for f in all_files), sort=False)\n",
    "    \n",
    "    return df\n",
    "\n",
    "# function that splits the data\n",
    "def split_data(df):\n",
    "    print(\"Splitting data...\")\n",
    "    X, y = df[['Pregnancies','PlasmaGlucose','DiastolicBloodPressure','TricepsThickness',\n",
    "    'SerumInsulin','BMI','DiabetesPedigree','Age']].values, df['Diabetic'].values\n",
    "\n",
    "    X_train, X_test, y_train, y_test = train_test_split(X, y, test_size=0.30, random_state=0)\n",
    "\n",
    "    return X_train, X_test, y_train, y_test\n",
    "\n",
    "# function that trains the model\n",
    "def train_model(n_estimators, max_depth, model_output, X_train, X_test, y_train, y_test):\n",
    "\n",
    "    mlflow.log_param(\"n_estimators\", n_estimators)\n",
    "    mlflow.log_param(\"max_depth\", max_depth)\n",
    "\n",
    "\n",
    "    clf = RandomForestClassifier(max_depth = max_depth, n_estimators = n_estimators, random_state=0)\n",
    "    model = clf.fit(X_train, y_train)\n",
    "\n",
    "\n",
    "    # mlflow.log_param(\"Regularization rate\", reg_rate)\n",
    "    # print(\"Training model...\")\n",
    "    # model = LogisticRegression(C=1/reg_rate, solver=\"liblinear\").fit(X_train, y_train)\n",
    "\n",
    "    y_probs = model.predict_proba(X_test)\n",
    "\n",
    "    #Logging the model artifact\n",
    "    signature = infer_signature(X_test, y_probs)\n",
    "    mlflow.pyfunc.log_model(\"RFclassifier\", \n",
    "                            python_model=ModelWrapper(model),\n",
    "                            signature=signature)\n",
    "    \n",
    "\n",
    "    return model\n",
    "\n",
    "# function that evaluates the model\n",
    "def eval_model(model, X_test, y_test):\n",
    "    # calculate accuracy\n",
    "    y_hat = model.predict(X_test)\n",
    "    acc = np.average(y_hat == y_test)\n",
    "    print('Accuracy:', acc)\n",
    "    mlflow.log_metric(\"Accuracy\", acc)\n",
    "\n",
    "    # calculate AUC\n",
    "    y_scores = model.predict_proba(X_test)\n",
    "    auc = roc_auc_score(y_test,y_scores[:,1])\n",
    "    print('AUC: ' + str(auc))\n",
    "    mlflow.log_metric(\"AUC\", auc)\n",
    "\n",
    "    # plot ROC curve\n",
    "    fpr, tpr, thresholds = roc_curve(y_test, y_scores[:,1])\n",
    "    fig = plt.figure(figsize=(6, 4))\n",
    "    # Plot the diagonal 50% line\n",
    "    plt.plot([0, 1], [0, 1], 'k--')\n",
    "    # Plot the FPR and TPR achieved by our model\n",
    "    plt.plot(fpr, tpr)\n",
    "    plt.xlabel('False Positive Rate')\n",
    "    plt.ylabel('True Positive Rate')\n",
    "    plt.title('ROC Curve')\n",
    "    plt.savefig(\"ROC-Curve.png\")\n",
    "    mlflow.log_artifact(\"ROC-Curve.png\")    \n",
    "\n",
    "def parse_args():\n",
    "    # setup arg parser\n",
    "    parser = argparse.ArgumentParser()\n",
    "\n",
    "    # add arguments\n",
    "    parser.add_argument(\"--training_data\", dest='training_data',\n",
    "                        type=str)\n",
    "    parser.add_argument(\"--n_estimators\", dest='n_estimators',\n",
    "                        type=int, default=10)\n",
    "    parser.add_argument(\"--max_depth\", dest='max_depth',\n",
    "                        type=int, default=3)\n",
    "    parser.add_argument(\"--model_output\", dest='model_output',\n",
    "                        type=str)\n",
    "\n",
    "    # parse args\n",
    "    args = parser.parse_args()\n",
    "\n",
    "    # return args\n",
    "    return args\n",
    "\n",
    "# run script\n",
    "if __name__ == \"__main__\":\n",
    "    # add space in logs\n",
    "    print(\"\\n\\n\")\n",
    "    print(\"*\" * 60)\n",
    "\n",
    "    # parse args\n",
    "    args = parse_args()\n",
    "\n",
    "    # run main function\n",
    "    main(args)\n",
    "\n",
    "    # add space in logs\n",
    "    print(\"*\" * 60)\n",
    "    print(\"\\n\\n\")"
   ]
  },
  {
   "cell_type": "markdown",
   "metadata": {},
   "source": [
    "### Define the Yaml file for the components\n"
   ]
  },
  {
   "cell_type": "code",
   "execution_count": 187,
   "metadata": {},
   "outputs": [
    {
     "name": "stdout",
     "output_type": "stream",
     "text": [
      "Overwriting prep-data.yml\n"
     ]
    }
   ],
   "source": [
    "%%writefile prep-data.yml\n",
    "$schema: https://azuremlschemas.azureedge.net/latest/commandComponent.schema.json\n",
    "name: prep_data\n",
    "display_name: Prepare training data\n",
    "version: 1\n",
    "type: command\n",
    "inputs:\n",
    "  input_data: \n",
    "    type: uri_file\n",
    "outputs:\n",
    "  output_data:\n",
    "    type: uri_folder\n",
    "code: ./src\n",
    "environment: azureml:AzureML-sklearn-0.24-ubuntu18.04-py37-cpu@latest\n",
    "command: >-\n",
    "  python prep-data.py \n",
    "  --input_data ${{inputs.input_data}}\n",
    "  --output_data ${{outputs.output_data}}"
   ]
  },
  {
   "cell_type": "code",
   "execution_count": 188,
   "metadata": {},
   "outputs": [
    {
     "name": "stdout",
     "output_type": "stream",
     "text": [
      "Overwriting train-model.yml\n"
     ]
    }
   ],
   "source": [
    "%%writefile train-model.yml\n",
    "$schema: https://azuremlschemas.azureedge.net/latest/commandComponent.schema.json\n",
    "name: train_model\n",
    "display_name: Train a decision tree classifier model\n",
    "version: 1\n",
    "type: command\n",
    "inputs:\n",
    "  training_data: \n",
    "    type: uri_folder\n",
    "  n_estimators:\n",
    "    type: integer\n",
    "    default: 5\n",
    "  max_depth:\n",
    "    type: integer\n",
    "    default: 3\n",
    "outputs:\n",
    "  model_output:\n",
    "    type: mlflow_model\n",
    "code: ./src\n",
    "environment: azureml:AzureML-sklearn-0.24-ubuntu18.04-py37-cpu@latest\n",
    "command: >-\n",
    "  python train-model.py \n",
    "  --training_data ${{inputs.training_data}} \n",
    "  --n_estimators  ${{inputs.n_estimators}}\n",
    "  --max_depth ${{inputs.max_depth}}\n",
    "  --model_output ${{outputs.model_output}} "
   ]
  },
  {
   "cell_type": "markdown",
   "metadata": {},
   "source": [
    "## Loading components"
   ]
  },
  {
   "cell_type": "code",
   "execution_count": 198,
   "metadata": {},
   "outputs": [],
   "source": [
    "from azure.ai.ml import load_component\n",
    "parent_dir = \"\"\n",
    "\n",
    "prep_data = load_component(source=parent_dir + \"./prep-data.yml\")\n",
    "train_decision_tree = load_component(source=parent_dir + \"./train-model.yml\")\n"
   ]
  },
  {
   "cell_type": "markdown",
   "metadata": {},
   "source": [
    "## Build Pipeline"
   ]
  },
  {
   "cell_type": "code",
   "execution_count": 199,
   "metadata": {},
   "outputs": [],
   "source": [
    "from azure.ai.ml import Input\n",
    "from azure.ai.ml.constants import AssetTypes\n",
    "from azure.ai.ml.dsl import pipeline\n",
    "\n",
    "@pipeline()\n",
    "def diabetes_classification(pipeline_job_input):\n",
    "    clean_data = prep_data(input_data=pipeline_job_input)\n",
    "    clean_data.compute = 'farbodtaymouri1' # Assigning the component to a compute node\n",
    "\n",
    "    train_model = train_decision_tree(training_data=clean_data.outputs.output_data, n_estimators=10, max_depth=3)\n",
    "    train_model.compute = 'farbodtaymouri2'\n",
    "\n",
    "    return {\n",
    "        \"pipeline_job_transformed_data\": clean_data.outputs.output_data,\n",
    "        \"pipeline_job_trained_model\": train_model.outputs.model_output,\n",
    "    }\n",
    "\n",
    "\n",
    "pipeline_job = diabetes_classification(Input(type=AssetTypes.URI_FILE, path=\"azureml:diabetes-local:1\"))"
   ]
  },
  {
   "cell_type": "code",
   "execution_count": null,
   "metadata": {},
   "outputs": [],
   "source": [
    "print(pipeline_job)"
   ]
  },
  {
   "cell_type": "code",
   "execution_count": 200,
   "metadata": {},
   "outputs": [],
   "source": [
    "# change the output mode (VERY IMPORTANT)\n",
    "pipeline_job.outputs.pipeline_job_transformed_data.mode = \"upload\"\n",
    "pipeline_job.outputs.pipeline_job_trained_model.mode = \"upload\"\n",
    "# set pipeline level datastore\n",
    "pipeline_job.settings.default_datastore = \"workspaceblobstore\"\n",
    "\n",
    "# # print the pipeline job again to review the changes\n",
    "# print(pipeline_job)"
   ]
  },
  {
   "cell_type": "markdown",
   "metadata": {},
   "source": [
    "## Submit the job"
   ]
  },
  {
   "cell_type": "code",
   "execution_count": 201,
   "metadata": {},
   "outputs": [
    {
     "data": {
      "text/html": [
       "<table style=\"width:100%\"><tr><th>Experiment</th><th>Name</th><th>Type</th><th>Status</th><th>Details Page</th></tr><tr><td>pipeline_diabetes1</td><td>salmon_horse_tlkfyfwlj6</td><td>pipeline</td><td>Preparing</td><td><a href=\"https://ml.azure.com/runs/salmon_horse_tlkfyfwlj6?wsid=/subscriptions/2a21ade8-9d70-4d5a-a619-083b264d1d56/resourcegroups/mlcertificate1/workspaces/ft_ml&amp;tid=71f8feea-4caa-4230-a785-dca61147bceb\" target=\"_blank\" rel=\"noopener\">Link to Azure Machine Learning studio</a></td></tr></table>"
      ],
      "text/plain": [
       "PipelineJob({'inputs': {'pipeline_job_input': <azure.ai.ml.entities._job.pipeline._io.base.PipelineInput object at 0x7f5403d28400>}, 'outputs': {'pipeline_job_transformed_data': <azure.ai.ml.entities._job.pipeline._io.base.PipelineOutput object at 0x7f5403d2a470>, 'pipeline_job_trained_model': <azure.ai.ml.entities._job.pipeline._io.base.PipelineOutput object at 0x7f5403d297e0>}, 'jobs': {}, 'component': PipelineComponent({'auto_increment_version': False, 'source': 'REMOTE.WORKSPACE.JOB', 'is_anonymous': True, 'name': 'azureml_anonymous', 'description': None, 'tags': {}, 'properties': {}, 'print_as_yaml': True, 'id': None, 'Resource__source_path': None, 'base_path': '/mnt/batch/tasks/shared/LS_root/mounts/clusters/farbodtaymouri1/code/my-azure-ml-projects/pipeline-component', 'creation_context': None, 'serialize': <msrest.serialization.Serializer object at 0x7f5403d2ad10>, 'version': '1', 'latest_version': None, 'schema': None, 'type': 'pipeline', 'display_name': 'diabetes_classification', 'is_deterministic': None, 'inputs': {'pipeline_job_input': {}}, 'outputs': {'pipeline_job_transformed_data': {}, 'pipeline_job_trained_model': {}}, 'yaml_str': None, 'other_parameter': {}, 'jobs': {'clean_data': Command({'parameters': {}, 'init': False, 'type': 'command', 'status': None, 'log_files': None, 'name': 'clean_data', 'description': None, 'tags': {}, 'properties': {}, 'print_as_yaml': True, 'id': None, 'Resource__source_path': None, 'base_path': '/mnt/batch/tasks/shared/LS_root/mounts/clusters/farbodtaymouri1/code/my-azure-ml-projects/pipeline-component', 'creation_context': None, 'serialize': <msrest.serialization.Serializer object at 0x7f5403be83a0>, 'allowed_keys': {}, 'key_restriction': False, 'logger': <Logger attr_dict (WARNING)>, 'display_name': None, 'experiment_name': None, 'compute': 'farbodtaymouri1', 'services': None, 'comment': None, 'job_inputs': {'input_data': '${{parent.inputs.pipeline_job_input}}'}, 'job_outputs': {'output_data': '${{parent.outputs.pipeline_job_transformed_data}}'}, 'inputs': {'input_data': <azure.ai.ml.entities._job.pipeline._io.base.NodeInput object at 0x7f5403be8370>}, 'outputs': {'output_data': <azure.ai.ml.entities._job.pipeline._io.base.NodeOutput object at 0x7f5403be8430>}, 'component': 'azureml_anonymous:d0a2d041-9211-4b08-90a3-d95b2203188b', 'referenced_control_flow_node_instance_id': None, 'kwargs': {'services': None}, 'instance_id': '873cb841-6b75-49ad-9b0f-d41baae8e0ed', 'source': 'REMOTE.WORKSPACE.COMPONENT', 'validate_required_input_not_provided': True, 'limits': None, 'identity': None, 'distribution': None, 'environment_variables': {}, 'environment': None, 'resources': None, 'queue_settings': None, 'swept': False}), 'train_model': Command({'parameters': {}, 'init': False, 'type': 'command', 'status': None, 'log_files': None, 'name': 'train_model', 'description': None, 'tags': {}, 'properties': {}, 'print_as_yaml': True, 'id': None, 'Resource__source_path': None, 'base_path': '/mnt/batch/tasks/shared/LS_root/mounts/clusters/farbodtaymouri1/code/my-azure-ml-projects/pipeline-component', 'creation_context': None, 'serialize': <msrest.serialization.Serializer object at 0x7f5403be84c0>, 'allowed_keys': {}, 'key_restriction': False, 'logger': <Logger attr_dict (WARNING)>, 'display_name': None, 'experiment_name': None, 'compute': 'farbodtaymouri2', 'services': None, 'comment': None, 'job_inputs': {'n_estimators': '10', 'max_depth': '3', 'training_data': '${{parent.jobs.clean_data.outputs.output_data}}'}, 'job_outputs': {'model_output': '${{parent.outputs.pipeline_job_trained_model}}'}, 'inputs': {'n_estimators': <azure.ai.ml.entities._job.pipeline._io.base.NodeInput object at 0x7f5403be8580>, 'max_depth': <azure.ai.ml.entities._job.pipeline._io.base.NodeInput object at 0x7f5403be8280>, 'training_data': <azure.ai.ml.entities._job.pipeline._io.base.NodeInput object at 0x7f5403be8040>}, 'outputs': {'model_output': <azure.ai.ml.entities._job.pipeline._io.base.NodeOutput object at 0x7f5403be87f0>}, 'component': 'azureml_anonymous:ca9c6332-cc67-48ca-b461-901fbd834a98', 'referenced_control_flow_node_instance_id': None, 'kwargs': {'services': None}, 'instance_id': '16782ffa-1880-4902-bdc1-6eec32207130', 'source': 'REMOTE.WORKSPACE.COMPONENT', 'validate_required_input_not_provided': True, 'limits': None, 'identity': None, 'distribution': None, 'environment_variables': {}, 'environment': None, 'resources': None, 'queue_settings': None, 'swept': False})}, 'job_types': {'command': 2}, 'job_sources': {'REMOTE.WORKSPACE.COMPONENT': 2}, 'source_job_id': None}), 'type': 'pipeline', 'status': 'Preparing', 'log_files': None, 'name': 'salmon_horse_tlkfyfwlj6', 'description': None, 'tags': {}, 'properties': {'azureml.DevPlatv2': 'true', 'azureml.DatasetAccessMode': 'Asset', 'azureml.runsource': 'azureml.PipelineRun', 'runSource': 'MFE', 'runType': 'HTTP', 'azureml.parameters': '{}', 'azureml.continue_on_step_failure': 'True', 'azureml.continue_on_failed_optional_input': 'True', 'azureml.enforceRerun': 'False', 'azureml.defaultDataStoreName': 'workspaceblobstore', 'azureml.pipelineComponent': 'pipelinerun'}, 'print_as_yaml': True, 'id': '/subscriptions/2a21ade8-9d70-4d5a-a619-083b264d1d56/resourceGroups/mlcertificate1/providers/Microsoft.MachineLearningServices/workspaces/ft_ml/jobs/salmon_horse_tlkfyfwlj6', 'Resource__source_path': None, 'base_path': '/mnt/batch/tasks/shared/LS_root/mounts/clusters/farbodtaymouri1/code/my-azure-ml-projects/pipeline-component', 'creation_context': <azure.ai.ml.entities._system_data.SystemData object at 0x7f5403d29330>, 'serialize': <msrest.serialization.Serializer object at 0x7f5403d29a80>, 'display_name': 'diabetes_classification', 'experiment_name': 'pipeline_diabetes1', 'compute': None, 'services': {'Tracking': <azure.ai.ml.entities._job.job_service.JobService object at 0x7f5403d2bc70>, 'Studio': <azure.ai.ml.entities._job.job_service.JobService object at 0x7f5403d296f0>}, 'settings': {}, 'identity': None, 'default_code': None, 'default_environment': None})"
      ]
     },
     "execution_count": 201,
     "metadata": {},
     "output_type": "execute_result"
    }
   ],
   "source": [
    "# submit job to workspace\n",
    "pipeline_job = ml_client.jobs.create_or_update(\n",
    "    pipeline_job, experiment_name=\"pipeline_diabetes1\"\n",
    ")\n",
    "pipeline_job"
   ]
  },
  {
   "cell_type": "markdown",
   "metadata": {},
   "source": [
    "## Schedule a pipeline"
   ]
  },
  {
   "cell_type": "code",
   "execution_count": null,
   "metadata": {},
   "outputs": [],
   "source": [
    "import datetime\n",
    "from azure.ai.ml import RecurrencePattern, RecurrenceTrigger, TimeZone, JobSchedule\n",
    "\n",
    "schedule_name = \"simple_sdk_create_schedule_recurrence\"\n",
    "\n",
    "schedule_start_time = datetime.utcnow()\n",
    "recurrence_trigger = RecurrenceTrigger(\n",
    "    frequency=\"day\",\n",
    "    interval=1,\n",
    "    schedule=RecurrencePattern(hours=10, minutes=[0, 1]),\n",
    "    start_time=schedule_start_time,\n",
    "    time_zone=TimeZone.UTC,\n",
    ")\n",
    "\n",
    "job_schedule = JobSchedule(\n",
    "    name=schedule_name, trigger=recurrence_trigger, create_job=pipeline_job\n",
    ")"
   ]
  },
  {
   "cell_type": "code",
   "execution_count": null,
   "metadata": {},
   "outputs": [],
   "source": [
    "job_schedule = ml_client.schedules.begin_create_or_update(\n",
    "    schedule=job_schedule\n",
    ").result()\n",
    "print(job_schedule)"
   ]
  }
 ],
 "metadata": {
  "kernelspec": {
   "display_name": "Python 3.10 - SDK v2",
   "language": "python",
   "name": "python310-sdkv2"
  },
  "language_info": {
   "codemirror_mode": {
    "name": "ipython",
    "version": 3
   },
   "file_extension": ".py",
   "mimetype": "text/x-python",
   "name": "python",
   "nbconvert_exporter": "python",
   "pygments_lexer": "ipython3",
   "version": "3.10.10"
  },
  "orig_nbformat": 4
 },
 "nbformat": 4,
 "nbformat_minor": 2
}
